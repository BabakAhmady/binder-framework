{
 "cells": [
  {
   "cell_type": "code",
   "execution_count": 1,
   "id": "d98a7a74",
   "metadata": {},
   "outputs": [],
   "source": [
    "import numpy as np\n",
    "import pandas as pd"
   ]
  },
  {
   "cell_type": "code",
   "execution_count": 2,
   "id": "3f1765ef",
   "metadata": {},
   "outputs": [],
   "source": [
    "import requests\n",
    "import json\n",
    "response_API = requests.get('https://data.cityofnewyork.us/resource/bug8-9f3g.json')"
   ]
  },
  {
   "cell_type": "code",
   "execution_count": 3,
   "id": "cd2e73fe",
   "metadata": {},
   "outputs": [],
   "source": [
    "data=response_API.json()"
   ]
  },
  {
   "cell_type": "code",
   "execution_count": 4,
   "id": "fa4e29f1",
   "metadata": {},
   "outputs": [],
   "source": [
    "df = pd.DataFrame(data)"
   ]
  },
  {
   "cell_type": "code",
   "execution_count": 5,
   "id": "e942aa92",
   "metadata": {},
   "outputs": [],
   "source": [
    "q1=len(pd.unique(df['company_name']))"
   ]
  },
  {
   "cell_type": "code",
   "execution_count": 6,
   "id": "87a6ca7b",
   "metadata": {},
   "outputs": [],
   "source": [
    "q2=df[df.city == 'Queens']['job_created']\n",
    "q2=pd.to_numeric(q2.dropna()).sum()"
   ]
  },
  {
   "cell_type": "code",
   "execution_count": 7,
   "id": "646d95c2",
   "metadata": {},
   "outputs": [],
   "source": [
    "email=df.company_email.str.split('@')"
   ]
  },
  {
   "cell_type": "code",
   "execution_count": 8,
   "id": "046c0761",
   "metadata": {},
   "outputs": [],
   "source": [
    "email.dropna(inplace=True)"
   ]
  },
  {
   "cell_type": "code",
   "execution_count": 9,
   "id": "e1d2ead6",
   "metadata": {},
   "outputs": [],
   "source": [
    "email = email.to_list()"
   ]
  },
  {
   "cell_type": "code",
   "execution_count": 10,
   "id": "de96d153",
   "metadata": {},
   "outputs": [
    {
     "data": {
      "text/plain": [
       "['billieannplastics.com']"
      ]
     },
     "execution_count": 10,
     "metadata": {},
     "output_type": "execute_result"
    }
   ],
   "source": [
    "email[72]"
   ]
  },
  {
   "cell_type": "code",
   "execution_count": 11,
   "id": "1871f40e",
   "metadata": {},
   "outputs": [],
   "source": [
    "q3=[]\n",
    "for i in range(len(email)):\n",
    "    q3.append(email[i][-1])\n",
    "    "
   ]
  },
  {
   "cell_type": "code",
   "execution_count": 12,
   "id": "6a260ac3",
   "metadata": {},
   "outputs": [],
   "source": [
    "q3 = len(set(q3))"
   ]
  },
  {
   "cell_type": "code",
   "execution_count": 13,
   "id": "f292023f",
   "metadata": {},
   "outputs": [],
   "source": [
    "df['total_savings']=pd.to_numeric(df.total_savings)"
   ]
  },
  {
   "cell_type": "code",
   "execution_count": 14,
   "id": "e81dc1a4",
   "metadata": {},
   "outputs": [],
   "source": [
    "NTA=df.dropna(subset=['job_created', 'total_savings'], axis=0).groupby('nta')"
   ]
  },
  {
   "cell_type": "code",
   "execution_count": 15,
   "id": "aee9eb84",
   "metadata": {},
   "outputs": [],
   "source": [
    "sel=df['nta'].value_counts()>=5"
   ]
  },
  {
   "cell_type": "code",
   "execution_count": 16,
   "id": "82375153",
   "metadata": {},
   "outputs": [],
   "source": [
    "sel=sel[sel == True].index.to_list()"
   ]
  },
  {
   "cell_type": "code",
   "execution_count": 17,
   "id": "22d5c968",
   "metadata": {},
   "outputs": [],
   "source": [
    "job_created=NTA['job_created'].mean()\n",
    "total_sav=NTA['total_savings'].mean()"
   ]
  },
  {
   "cell_type": "code",
   "execution_count": 18,
   "id": "d774c9f0",
   "metadata": {},
   "outputs": [],
   "source": [
    "q4=pd.DataFrame(job_created)"
   ]
  },
  {
   "cell_type": "code",
   "execution_count": 19,
   "id": "c0e40fd5",
   "metadata": {},
   "outputs": [],
   "source": [
    "q4['total_sav']=total_sav"
   ]
  },
  {
   "cell_type": "code",
   "execution_count": 20,
   "id": "1b3b17c6",
   "metadata": {},
   "outputs": [],
   "source": [
    "#import csv\n",
    "#with open('q4.csv', 'w', newline = '') as q4:\n",
    "#    my_writer = csv.writer(q4, delimiter = ' ')\n",
    "#    my_writer.writerow(q4)"
   ]
  },
  {
   "cell_type": "code",
   "execution_count": 21,
   "id": "87315dc1",
   "metadata": {},
   "outputs": [],
   "source": [
    "q4.to_csv('q4.csv')"
   ]
  },
  {
   "cell_type": "code",
   "execution_count": 22,
   "id": "5d1785db",
   "metadata": {},
   "outputs": [],
   "source": [
    "import matplotlib.pyplot as plt"
   ]
  },
  {
   "cell_type": "code",
   "execution_count": 23,
   "id": "817a142e",
   "metadata": {},
   "outputs": [
    {
     "data": {
      "text/plain": [
       "<function matplotlib.pyplot.show(close=None, block=None)>"
      ]
     },
     "execution_count": 23,
     "metadata": {},
     "output_type": "execute_result"
    },
    {
     "data": {
      "image/png": "[encoded data removed]",
      "text/plain": [
       "<Figure size 432x288 with 1 Axes>"
      ]
     },
     "metadata": {
      "needs_background": "light"
     },
     "output_type": "display_data"
    }
   ],
   "source": [
    "y=df.job_created\n",
    "x=df.total_savings\n",
    "plt.scatter(x,y)\n",
    "plt.ylabel(\"job_created\")\n",
    "plt.xlabel(\"total_savings\")\n",
    "plt.show"
   ]
  },
  {
   "cell_type": "code",
   "execution_count": 24,
   "id": "eaed4c22",
   "metadata": {},
   "outputs": [
    {
     "data": {
      "text/plain": [
       "<function matplotlib.pyplot.show(close=None, block=None)>"
      ]
     },
     "execution_count": 24,
     "metadata": {},
     "output_type": "execute_result"
    },
    {
     "data": {
      "image/png": "[encoded data removed]",
      "text/plain": [
       "<Figure size 432x288 with 1 Axes>"
      ]
     },
     "metadata": {
      "needs_background": "light"
     },
     "output_type": "display_data"
    }
   ],
   "source": [
    "y=df.job_created\n",
    "x=df.total_savings\n",
    "plt.scatter(x,y)\n",
    "plt.ylabel(\"job_created\")\n",
    "plt.xlabel(\"total_savings\")\n",
    "plt.xscale('log')\n",
    "plt.show"
   ]
  },
  {
   "cell_type": "code",
   "execution_count": 29,
   "id": "f414f496",
   "metadata": {},
   "outputs": [],
   "source": [
    "import math\n",
    "x=x[x != 0]\n",
    "xlog=np.log10(x)\n",
    "#xlog.replace([np.inf, -np.inf], np.nan, inplace=True)\n",
    "#xlog.dropna(subset=[\"col1\", \"col2\"], how=\"all\", inplace=True)"
   ]
  },
  {
   "cell_type": "code",
   "execution_count": 32,
   "id": "ed198719",
   "metadata": {},
   "outputs": [
    {
     "data": {
      "text/plain": [
       "(array([ 1.,  0.,  0.,  0.,  0.,  0.,  0.,  0.,  1.,  1.,  0.,  0.,  2.,\n",
       "         2.,  0.,  1.,  1.,  2.,  6.,  4., 12.,  7., 13., 21., 30., 15.,\n",
       "        22., 29., 29., 30., 23., 27., 30., 20., 23., 20., 17., 10.,  7.,\n",
       "         6.,  7.,  5.,  3.,  1.,  4.,  4.,  1.,  4.,  2.,  1.]),\n",
       " array([0.26717173, 0.38574065, 0.50430957, 0.6228785 , 0.74144742,\n",
       "        0.86001634, 0.97858526, 1.09715419, 1.21572311, 1.33429203,\n",
       "        1.45286095, 1.57142987, 1.6899988 , 1.80856772, 1.92713664,\n",
       "        2.04570556, 2.16427449, 2.28284341, 2.40141233, 2.51998125,\n",
       "        2.63855018, 2.7571191 , 2.87568802, 2.99425694, 3.11282587,\n",
       "        3.23139479, 3.34996371, 3.46853263, 3.58710156, 3.70567048,\n",
       "        3.8242394 , 3.94280832, 4.06137724, 4.17994617, 4.29851509,\n",
       "        4.41708401, 4.53565293, 4.65422186, 4.77279078, 4.8913597 ,\n",
       "        5.00992862, 5.12849755, 5.24706647, 5.36563539, 5.48420431,\n",
       "        5.60277324, 5.72134216, 5.83991108, 5.95848   , 6.07704893,\n",
       "        6.19561785]),\n",
       " <BarContainer object of 50 artists>)"
      ]
     },
     "execution_count": 32,
     "metadata": {},
     "output_type": "execute_result"
    },
    {
     "data": {
      "image/png": "[encoded data removed]",
      "text/plain": [
       "<Figure size 432x288 with 1 Axes>"
      ]
     },
     "metadata": {
      "needs_background": "light"
     },
     "output_type": "display_data"
    }
   ],
   "source": [
    "plt.xlabel(\"total_savings\")\n",
    "plt.hist(xlog,50)"
   ]
  },
  {
   "cell_type": "code",
   "execution_count": 33,
   "id": "eee16538",
   "metadata": {},
   "outputs": [
    {
     "data": {
      "text/plain": [
       "Index(['company_name', 'company_contact', 'company_email', 'company_phone',\n",
       "       'address', 'city', 'state', 'zip', 'industry', 'industry_descr',\n",
       "       'company_type', 'effective_date', 'total_savings',\n",
       "       'savings_from_beginning', 'borough', 'latitude', 'longitude',\n",
       "       'community_board', 'council_district', 'census_tract', 'bin', 'bbl',\n",
       "       'nta', 'current_fulltime', 'job_created', 'job_retain'],\n",
       "      dtype='object')"
      ]
     },
     "execution_count": 33,
     "metadata": {},
     "output_type": "execute_result"
    }
   ],
   "source": [
    "df.columns"
   ]
  },
  {
   "cell_type": "code",
   "execution_count": 102,
   "id": "fe6632e6",
   "metadata": {},
   "outputs": [],
   "source": [
    "import datetime\n",
    "import calendar\n",
    "#month=datetime(df.effective_date, \"%Y-%m-%d\")\n",
    "#datetime.datetime.strptime(df.effective_date[0], '%Y-%m-%d %H:%M:%S.%f')\n",
    "#test=df.effective_date[8]"
   ]
  },
  {
   "cell_type": "code",
   "execution_count": 125,
   "id": "1672d9ab",
   "metadata": {},
   "outputs": [],
   "source": [
    "test=[]\n",
    "for i in df.effective_date:\n",
    "    test.append(datetime.datetime.strptime(i.replace('T', ' '), '%Y-%m-%d %H:%M:%S.%f').month)\n",
    "    #datetime.datetime.strptime(i.replace('T', ' '), '%Y-%m-%d %H:%M:%S.%f')"
   ]
  },
  {
   "cell_type": "code",
   "execution_count": 126,
   "id": "658084fc",
   "metadata": {},
   "outputs": [],
   "source": [
    "df2=df.copy()"
   ]
  },
  {
   "cell_type": "code",
   "execution_count": 127,
   "id": "1a4456c5",
   "metadata": {},
   "outputs": [],
   "source": [
    "df2['effective_date']=test"
   ]
  },
  {
   "cell_type": "code",
   "execution_count": 128,
   "id": "9a34fd91",
   "metadata": {},
   "outputs": [],
   "source": [
    "month=df2.groupby('effective_date')['job_created'].sum()"
   ]
  },
  {
   "cell_type": "code",
   "execution_count": 129,
   "id": "e112a161",
   "metadata": {},
   "outputs": [
    {
     "data": {
      "text/plain": [
       "effective_date\n",
       "1        0\n",
       "2     1215\n",
       "3     1010\n",
       "4        2\n",
       "5        2\n",
       "6      603\n",
       "7       20\n",
       "8        0\n",
       "9        0\n",
       "10       0\n",
       "11       5\n",
       "12      10\n",
       "Name: job_created, dtype: object"
      ]
     },
     "execution_count": 129,
     "metadata": {},
     "output_type": "execute_result"
    }
   ],
   "source": [
    "month"
   ]
  },
  {
   "cell_type": "code",
   "execution_count": 132,
   "id": "96d18f55",
   "metadata": {},
   "outputs": [],
   "source": [
    "month_name=[]\n",
    "for i in month.index:\n",
    "    month_name.append(calendar.month_name[i])\n",
    "\n",
    "month.index = month_name"
   ]
  },
  {
   "cell_type": "code",
   "execution_count": 135,
   "id": "ef21f76f",
   "metadata": {},
   "outputs": [
    {
     "data": {
      "text/plain": [
       "([0, 1, 2, 3, 4, 5, 6, 7, 8, 9, 10, 11],\n",
       " [Text(0, 0, ''),\n",
       "  Text(0, 0, ''),\n",
       "  Text(0, 0, ''),\n",
       "  Text(0, 0, ''),\n",
       "  Text(0, 0, ''),\n",
       "  Text(0, 0, ''),\n",
       "  Text(0, 0, ''),\n",
       "  Text(0, 0, ''),\n",
       "  Text(0, 0, ''),\n",
       "  Text(0, 0, ''),\n",
       "  Text(0, 0, ''),\n",
       "  Text(0, 0, '')])"
      ]
     },
     "execution_count": 135,
     "metadata": {},
     "output_type": "execute_result"
    },
    {
     "data": {
      "image/png": "[encoded data removed]",
      "text/plain": [
       "<Figure size 432x288 with 1 Axes>"
      ]
     },
     "metadata": {
      "needs_background": "light"
     },
     "output_type": "display_data"
    }
   ],
   "source": [
    "x=month.index\n",
    "y=month\n",
    "plt.plot(x,y)\n",
    "plt.ylabel(\"job_created\")\n",
    "plt.xlabel(\"month\")\n",
    "plt.xticks(rotation = 90)"
   ]
  },
  {
   "cell_type": "code",
   "execution_count": null,
   "id": "2f86a64b",
   "metadata": {},
   "outputs": [],
   "source": []
  }
 ],
 "metadata": {
  "kernelspec": {
   "display_name": "Python 3 (ipykernel)",
   "language": "python",
   "name": "python3"
  },
  "language_info": {
   "codemirror_mode": {
    "name": "ipython",
    "version": 3
   },
   "file_extension": ".py",
   "mimetype": "text/x-python",
   "name": "python",
   "nbconvert_exporter": "python",
   "pygments_lexer": "ipython3",
   "version": "3.9.12"
  }
 },
 "nbformat": 4,
 "nbformat_minor": 5
}
